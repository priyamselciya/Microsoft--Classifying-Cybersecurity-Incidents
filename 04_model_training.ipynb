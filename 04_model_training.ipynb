{
 "cells": [
  {
   "cell_type": "code",
   "execution_count": 25,
   "metadata": {},
   "outputs": [],
   "source": [
    "#import libraries\n",
    "import pandas as pd\n",
    "import numpy as np\n",
    "from sklearn.model_selection import train_test_split, cross_val_score, RandomizedSearchCV\n",
    "from sklearn.linear_model import LogisticRegression\n",
    "from sklearn.tree import DecisionTreeClassifier\n",
    "from sklearn.ensemble import RandomForestClassifier\n",
    "from xgboost import XGBClassifier\n",
    "from lightgbm import LGBMClassifier\n",
    "from sklearn.metrics import accuracy_score, f1_score, precision_score, recall_score, confusion_matrix\n",
    "from sklearn.preprocessing import StandardScaler\n",
    "from sklearn.pipeline import make_pipeline\n",
    "from imblearn.over_sampling import SMOTE\n",
    "from imblearn.under_sampling import RandomUnderSampler\n",
    "import seaborn as sns\n",
    "from sklearn.utils import resample\n",
    "import matplotlib.pyplot as plt\n",
    "\n",
    "pd.set_option('display.max_columns', None)"
   ]
  },
  {
   "cell_type": "code",
   "execution_count": 26,
   "metadata": {},
   "outputs": [
    {
     "name": "stdout",
     "output_type": "stream",
     "text": [
      "Class distribution before trimming:\n",
      "incidentgrade\n",
      "0    4110747\n",
      "2    3302643\n",
      "1    2029564\n",
      "Name: count, dtype: int64\n",
      "\n",
      "Class distribution after trimming (2% of each class):\n",
      "incidentgrade\n",
      "0    82214\n",
      "2    66052\n",
      "1    40591\n",
      "Name: count, dtype: int64\n"
     ]
    }
   ],
   "source": [
    "# Load the preprocessed dataset\n",
    "train_data = pd.read_csv(r\"Processed_datasets/train_preprocessed.csv\")\n",
    "\n",
    "# Check the distribution of classes\n",
    "class_counts = train_data['incidentgrade'].value_counts()\n",
    "print(\"Class distribution before trimming:\")\n",
    "print(class_counts)\n",
    "\n",
    "# Calculate the number of rows to keep (2% of each class)\n",
    "keep_fraction = 0.02  # 2% of each class\n",
    "n_rows_to_keep_per_class = (class_counts * keep_fraction).astype(int)\n",
    "\n",
    "# Create an empty DataFrame to store the sampled rows that will be kept\n",
    "trimmed_data = pd.DataFrame()\n",
    "\n",
    "# Loop through each class and sample the specified number of rows to keep\n",
    "for grade, count in n_rows_to_keep_per_class.items():\n",
    "    class_data = train_data[train_data['incidentgrade'] == grade]\n",
    "    \n",
    "    # Sample the specified number of rows to keep from the class\n",
    "    sampled_class_data = class_data.sample(n=count, random_state=42)\n",
    "    \n",
    "    # Append the sampled data to the final DataFrame\n",
    "    trimmed_data = pd.concat([trimmed_data, sampled_class_data], ignore_index=True)\n",
    "\n",
    "# Check the new class distribution after trimming\n",
    "trimmed_class_counts = trimmed_data['incidentgrade'].value_counts()\n",
    "print(\"\\nClass distribution after trimming (2% of each class):\")\n",
    "print(trimmed_class_counts)\n",
    "\n",
    "# save the trimmed data to a new CSV file\n",
    "trimmed_data.to_csv(\"Processed_datasets/train_trimmed_2%.csv\", index=False)\n",
    "\n"
   ]
  },
  {
   "cell_type": "code",
   "execution_count": 27,
   "metadata": {},
   "outputs": [],
   "source": [
    "# Load the equal proportionaly trimmed dataset\n",
    "df = pd.read_csv(r\"Processed_datasets/train_trimmed_2%.csv\")"
   ]
  },
  {
   "cell_type": "code",
   "execution_count": 28,
   "metadata": {},
   "outputs": [
    {
     "data": {
      "image/png": "[encoded data removed]",
      "text/plain": [
       "<Figure size 640x480 with 1 Axes>"
      ]
     },
     "metadata": {},
     "output_type": "display_data"
    },
    {
     "name": "stdout",
     "output_type": "stream",
     "text": [
      "0: BenignPositive\n",
      "1: FalsePositive\n",
      "2: TruePositive\n"
     ]
    }
   ],
   "source": [
    "sns.countplot(data=df, x='incidentgrade', order=df['incidentgrade'].value_counts().index)\n",
    "plt.title('Target Variable Distribution: incidentgrade')\n",
    "plt.xlabel('incidentgrade')\n",
    "plt.ylabel('count')\n",
    "plt.show()\n",
    "print(\"0: BenignPositive\")\n",
    "print(\"1: FalsePositive\")\n",
    "print(\"2: TruePositive\")"
   ]
  },
  {
   "cell_type": "code",
   "execution_count": 29,
   "metadata": {},
   "outputs": [
    {
     "data": {
      "text/html": [
       "<div>\n",
       "<style scoped>\n",
       "    .dataframe tbody tr th:only-of-type {\n",
       "        vertical-align: middle;\n",
       "    }\n",
       "\n",
       "    .dataframe tbody tr th {\n",
       "        vertical-align: top;\n",
       "    }\n",
       "\n",
       "    .dataframe thead th {\n",
       "        text-align: right;\n",
       "    }\n",
       "</style>\n",
       "<table border=\"1\" class=\"dataframe\">\n",
       "  <thead>\n",
       "    <tr style=\"text-align: right;\">\n",
       "      <th></th>\n",
       "      <th>incidentid</th>\n",
       "      <th>alertid</th>\n",
       "      <th>detectorid</th>\n",
       "      <th>alerttitle</th>\n",
       "      <th>category</th>\n",
       "      <th>incidentgrade</th>\n",
       "      <th>entitytype</th>\n",
       "      <th>filename</th>\n",
       "      <th>folderpath</th>\n",
       "      <th>resourceidname</th>\n",
       "      <th>osfamily</th>\n",
       "      <th>osversion</th>\n",
       "      <th>countrycode</th>\n",
       "      <th>state</th>\n",
       "      <th>city</th>\n",
       "      <th>year</th>\n",
       "      <th>month</th>\n",
       "      <th>day</th>\n",
       "      <th>hour</th>\n",
       "      <th>evidencerole_related</th>\n",
       "    </tr>\n",
       "  </thead>\n",
       "  <tbody>\n",
       "    <tr>\n",
       "      <th>0</th>\n",
       "      <td>302855</td>\n",
       "      <td>249168</td>\n",
       "      <td>2</td>\n",
       "      <td>2</td>\n",
       "      <td>1</td>\n",
       "      <td>0</td>\n",
       "      <td>32</td>\n",
       "      <td>289573</td>\n",
       "      <td>117668</td>\n",
       "      <td>3586</td>\n",
       "      <td>5</td>\n",
       "      <td>66</td>\n",
       "      <td>242</td>\n",
       "      <td>1445</td>\n",
       "      <td>10630</td>\n",
       "      <td>2024</td>\n",
       "      <td>6</td>\n",
       "      <td>10</td>\n",
       "      <td>13</td>\n",
       "      <td>False</td>\n",
       "    </tr>\n",
       "    <tr>\n",
       "      <th>1</th>\n",
       "      <td>566</td>\n",
       "      <td>699603</td>\n",
       "      <td>2</td>\n",
       "      <td>2</td>\n",
       "      <td>1</td>\n",
       "      <td>0</td>\n",
       "      <td>31</td>\n",
       "      <td>289573</td>\n",
       "      <td>117668</td>\n",
       "      <td>3586</td>\n",
       "      <td>5</td>\n",
       "      <td>66</td>\n",
       "      <td>242</td>\n",
       "      <td>1445</td>\n",
       "      <td>10630</td>\n",
       "      <td>2024</td>\n",
       "      <td>6</td>\n",
       "      <td>14</td>\n",
       "      <td>17</td>\n",
       "      <td>True</td>\n",
       "    </tr>\n",
       "    <tr>\n",
       "      <th>2</th>\n",
       "      <td>877</td>\n",
       "      <td>476258</td>\n",
       "      <td>108</td>\n",
       "      <td>56028</td>\n",
       "      <td>7</td>\n",
       "      <td>0</td>\n",
       "      <td>11</td>\n",
       "      <td>146391</td>\n",
       "      <td>15974</td>\n",
       "      <td>3586</td>\n",
       "      <td>5</td>\n",
       "      <td>66</td>\n",
       "      <td>242</td>\n",
       "      <td>1445</td>\n",
       "      <td>10630</td>\n",
       "      <td>2024</td>\n",
       "      <td>6</td>\n",
       "      <td>16</td>\n",
       "      <td>20</td>\n",
       "      <td>False</td>\n",
       "    </tr>\n",
       "    <tr>\n",
       "      <th>3</th>\n",
       "      <td>495063</td>\n",
       "      <td>556657</td>\n",
       "      <td>5</td>\n",
       "      <td>829</td>\n",
       "      <td>16</td>\n",
       "      <td>0</td>\n",
       "      <td>15</td>\n",
       "      <td>289573</td>\n",
       "      <td>117668</td>\n",
       "      <td>3586</td>\n",
       "      <td>5</td>\n",
       "      <td>66</td>\n",
       "      <td>242</td>\n",
       "      <td>1445</td>\n",
       "      <td>10630</td>\n",
       "      <td>2024</td>\n",
       "      <td>6</td>\n",
       "      <td>4</td>\n",
       "      <td>23</td>\n",
       "      <td>True</td>\n",
       "    </tr>\n",
       "    <tr>\n",
       "      <th>4</th>\n",
       "      <td>5926</td>\n",
       "      <td>80023</td>\n",
       "      <td>13</td>\n",
       "      <td>11</td>\n",
       "      <td>10</td>\n",
       "      <td>0</td>\n",
       "      <td>20</td>\n",
       "      <td>289573</td>\n",
       "      <td>117668</td>\n",
       "      <td>3586</td>\n",
       "      <td>5</td>\n",
       "      <td>66</td>\n",
       "      <td>242</td>\n",
       "      <td>1445</td>\n",
       "      <td>10630</td>\n",
       "      <td>2024</td>\n",
       "      <td>6</td>\n",
       "      <td>5</td>\n",
       "      <td>14</td>\n",
       "      <td>False</td>\n",
       "    </tr>\n",
       "  </tbody>\n",
       "</table>\n",
       "</div>"
      ],
      "text/plain": [
       "   incidentid  alertid  detectorid  alerttitle  category  incidentgrade  \\\n",
       "0      302855   249168           2           2         1              0   \n",
       "1         566   699603           2           2         1              0   \n",
       "2         877   476258         108       56028         7              0   \n",
       "3      495063   556657           5         829        16              0   \n",
       "4        5926    80023          13          11        10              0   \n",
       "\n",
       "   entitytype  filename  folderpath  resourceidname  osfamily  osversion  \\\n",
       "0          32    289573      117668            3586         5         66   \n",
       "1          31    289573      117668            3586         5         66   \n",
       "2          11    146391       15974            3586         5         66   \n",
       "3          15    289573      117668            3586         5         66   \n",
       "4          20    289573      117668            3586         5         66   \n",
       "\n",
       "   countrycode  state   city  year  month  day  hour  evidencerole_related  \n",
       "0          242   1445  10630  2024      6   10    13                 False  \n",
       "1          242   1445  10630  2024      6   14    17                  True  \n",
       "2          242   1445  10630  2024      6   16    20                 False  \n",
       "3          242   1445  10630  2024      6    4    23                  True  \n",
       "4          242   1445  10630  2024      6    5    14                 False  "
      ]
     },
     "execution_count": 29,
     "metadata": {},
     "output_type": "execute_result"
    }
   ],
   "source": [
    "df.head()"
   ]
  },
  {
   "cell_type": "markdown",
   "metadata": {},
   "source": [
    "#### 1. split the datasets into training and testing sets"
   ]
  },
  {
   "cell_type": "code",
   "execution_count": 30,
   "metadata": {},
   "outputs": [
    {
     "name": "stdout",
     "output_type": "stream",
     "text": [
      "Training features (80% of total data) size: 151085\n",
      "Training target (80% of total data) size: 151085\n",
      "Validation features (10% of total data) size: 18886\n",
      "Validation target (10% of total data) size: 18886\n",
      "Test features (10% of total data) size: 18886\n",
      "Test target (10% of total data) size: 18886\n"
     ]
    }
   ],
   "source": [
    "# 'df' is our DataFrame and 'incidentgrade' is our target variable\n",
    "X = df.drop(columns=['incidentgrade'])\n",
    "y = df['incidentgrade']\n",
    "\n",
    "# Step 1: Split the data into 80% training and 20% remaining (validation + test)\n",
    "X_train, X_remaining, y_train, y_remaining = train_test_split(X, y, test_size=0.2, random_state=42, stratify=y)\n",
    "\n",
    "# Step 2: Split the remaining 20% into 50% validation and 50% test\n",
    "X_val, X_test, y_val, y_test = train_test_split(X_remaining, y_remaining, test_size=0.5, random_state=42, stratify=y_remaining)\n",
    "\n",
    "# Check the sizes of the resulting splits\n",
    "print(f'Training features (80% of total data) size: {X_train.shape[0]}')\n",
    "print(f'Training target (80% of total data) size: {y_train.shape[0]}')\n",
    "print(f'Validation features (10% of total data) size: {X_val.shape[0]}')\n",
    "print(f'Validation target (10% of total data) size: {y_val.shape[0]}')\n",
    "print(f'Test features (10% of total data) size: {X_test.shape[0]}')\n",
    "print(f'Test target (10% of total data) size: {y_test.shape[0]}')"
   ]
  },
  {
   "cell_type": "markdown",
   "metadata": {},
   "source": [
    "* Downsample BP to match the size of TP\n",
    "* apply SMOTE to FP (minority class to match other classes)"
   ]
  },
  {
   "cell_type": "markdown",
   "metadata": {},
   "source": [
    "#### 2. Separate the Classes"
   ]
  },
  {
   "cell_type": "code",
   "execution_count": 31,
   "metadata": {},
   "outputs": [],
   "source": [
    "# Separate each class based on numerical labels\n",
    "X_train_benignpositive = X_train[y_train == 0]  #benignpositive = 0\n",
    "y_train_benignpositive = y_train[y_train == 0]\n",
    "\n",
    "X_train_falsepositive = X_train[y_train == 1]  #falsepositive = 1\n",
    "y_train_falsepositive = y_train[y_train == 1]\n",
    "\n",
    "X_train_truepositive = X_train[y_train == 2]  #truepositive = 2\n",
    "y_train_truepositive = y_train[y_train == 2]"
   ]
  },
  {
   "cell_type": "markdown",
   "metadata": {},
   "source": [
    "#### 3. Downsample BP to the Size of TP"
   ]
  },
  {
   "cell_type": "code",
   "execution_count": 32,
   "metadata": {},
   "outputs": [],
   "source": [
    "# Get the size of the middle class (falsepositive)\n",
    "min_samples = len(y_train_truepositive)\n",
    "\n",
    "# Downsample benignpositive to the size of truepositive (middle class)\n",
    "X_train_benignpositive_downsampled, y_train_benignpositive_downsampled = resample(\n",
    "    X_train_benignpositive,\n",
    "    y_train_benignpositive,\n",
    "    replace=False, \n",
    "    n_samples=min_samples,  # Match the size of falsepositive\n",
    "    random_state=42  # For reproducibility\n",
    ")\n"
   ]
  },
  {
   "cell_type": "markdown",
   "metadata": {},
   "source": [
    "#### 4. Combine Downsampled BP with TP"
   ]
  },
  {
   "cell_type": "code",
   "execution_count": 33,
   "metadata": {},
   "outputs": [],
   "source": [
    "# Combine downsampled benignpositive with falsepositive\n",
    "X_train_combined = pd.concat([X_train_benignpositive_downsampled, X_train_falsepositive, X_train_truepositive])\n",
    "y_train_combined = pd.concat([y_train_benignpositive_downsampled, y_train_falsepositive, y_train_truepositive])"
   ]
  },
  {
   "cell_type": "code",
   "execution_count": 34,
   "metadata": {},
   "outputs": [
    {
     "data": {
      "image/png": "[encoded data removed]",
      "text/plain": [
       "<Figure size 800x600 with 1 Axes>"
      ]
     },
     "metadata": {},
     "output_type": "display_data"
    },
    {
     "name": "stdout",
     "output_type": "stream",
     "text": [
      "{'benignpositive': 0, 'falsepositive': 1, 'truepositive': 2}\n"
     ]
    }
   ],
   "source": [
    "import matplotlib.pyplot as plt\n",
    "import seaborn as sns\n",
    "\n",
    "# Plotting the distribution of classes in y_train_combined\n",
    "plt.figure(figsize=(8, 6))\n",
    "sns.countplot(x=y_train_combined)\n",
    "plt.title('Distribution of Target Classes')\n",
    "plt.xlabel('Target Classes')\n",
    "plt.ylabel('Count')\n",
    "plt.xticks(rotation=45)\n",
    "plt.show()\n",
    "print(\"{'benignpositive': 0, 'falsepositive': 1, 'truepositive': 2}\")\n"
   ]
  },
  {
   "cell_type": "code",
   "execution_count": 35,
   "metadata": {},
   "outputs": [
    {
     "data": {
      "text/plain": [
       "incidentgrade\n",
       "0    52841\n",
       "2    52841\n",
       "1    32473\n",
       "Name: count, dtype: int64"
      ]
     },
     "execution_count": 35,
     "metadata": {},
     "output_type": "execute_result"
    }
   ],
   "source": [
    "y_train_combined.value_counts()"
   ]
  },
  {
   "cell_type": "markdown",
   "metadata": {},
   "source": [
    "#### 5. Apply smote to the minority Class (FP)"
   ]
  },
  {
   "cell_type": "code",
   "execution_count": 36,
   "metadata": {},
   "outputs": [
    {
     "name": "stdout",
     "output_type": "stream",
     "text": [
      "Original training dataset shape: (138155, 19), (138155,)\n",
      "Resampled training dataset shape: (158523, 19), (158523,)\n",
      "Class distribution before SMOTE:\n",
      "incidentgrade\n",
      "0    52841\n",
      "2    52841\n",
      "1    32473\n",
      "Name: count, dtype: int64\n",
      "Class distribution after SMOTE:\n",
      "incidentgrade\n",
      "0    52841\n",
      "1    52841\n",
      "2    52841\n",
      "Name: count, dtype: int64\n"
     ]
    }
   ],
   "source": [
    "# Apply SMOTE to the combined training data\n",
    "smote = SMOTE(sampling_strategy='auto', random_state=42)\n",
    "\n",
    "# Apply SMOTE to the training data\n",
    "X_train_smote, y_train_smote = smote.fit_resample(X_train_combined, y_train_combined)\n",
    "\n",
    "# Check the shape of the resampled dataset\n",
    "print(f\"Original training dataset shape: {X_train_combined.shape}, {y_train_combined.shape}\")\n",
    "print(f\"Resampled training dataset shape: {X_train_smote.shape}, {y_train_smote.shape}\")\n",
    "\n",
    "# class distribution before and after SMOTE\n",
    "print(\"Class distribution before SMOTE:\")\n",
    "print(y_train_combined.value_counts())\n",
    "\n",
    "print(\"Class distribution after SMOTE:\")\n",
    "print(pd.Series(y_train_smote).value_counts())"
   ]
  },
  {
   "cell_type": "code",
   "execution_count": 37,
   "metadata": {},
   "outputs": [
    {
     "data": {
      "text/plain": [
       "incidentgrade\n",
       "0    52841\n",
       "1    52841\n",
       "2    52841\n",
       "Name: count, dtype: int64"
      ]
     },
     "execution_count": 37,
     "metadata": {},
     "output_type": "execute_result"
    }
   ],
   "source": [
    "y_train_smote.value_counts()"
   ]
  },
  {
   "cell_type": "code",
   "execution_count": 38,
   "metadata": {},
   "outputs": [],
   "source": [
    "# store model performance metrics\n",
    "report = {\n",
    "    'Model': ['Logistic Regression', 'Decision Tree', 'Random Forest', 'XGBoost', 'LightGBM'],\n",
    "    'Accuracy': [],\n",
    "    'Macro-F1 Score': [],\n",
    "    'Precision': [],\n",
    "    'Recall': []\n",
    "}"
   ]
  },
  {
   "cell_type": "code",
   "execution_count": 39,
   "metadata": {},
   "outputs": [],
   "source": [
    "# Function to train and evaluate models\n",
    "def evaluate_model(model, X_train, y_train, X_val, y_val):\n",
    "    model.fit(X_train, y_train)\n",
    "    y_val_pred = model.predict(X_val)\n",
    "    \n",
    "    accuracy = accuracy_score(y_val, y_val_pred)\n",
    "    macro_f1 = f1_score(y_val, y_val_pred, average='macro')\n",
    "    precision = precision_score(y_val, y_val_pred, average='macro')\n",
    "    recall = recall_score(y_val, y_val_pred, average='macro')\n",
    "    \n",
    "    return accuracy, macro_f1, precision, recall"
   ]
  },
  {
   "cell_type": "markdown",
   "metadata": {},
   "source": [
    "##  Basic Models"
   ]
  },
  {
   "cell_type": "markdown",
   "metadata": {},
   "source": [
    "#### Logistic Regression"
   ]
  },
  {
   "cell_type": "code",
   "execution_count": 40,
   "metadata": {},
   "outputs": [],
   "source": [
    "# Logistic Regression with Scaling\n",
    "log_reg = make_pipeline(StandardScaler(), LogisticRegression(max_iter=500))\n",
    "acc, f1, prec, rec = evaluate_model(log_reg, X_train, y_train, X_val, y_val)\n",
    "report['Accuracy'].append(acc)\n",
    "report['Macro-F1 Score'].append(f1)\n",
    "report['Precision'].append(prec)\n",
    "report['Recall'].append(rec)"
   ]
  },
  {
   "cell_type": "markdown",
   "metadata": {},
   "source": [
    "#### Decision Tree Classifier"
   ]
  },
  {
   "cell_type": "code",
   "execution_count": 41,
   "metadata": {},
   "outputs": [],
   "source": [
    "# Decision Tree\n",
    "tree = DecisionTreeClassifier()\n",
    "acc, f1, prec, rec = evaluate_model(tree, X_train, y_train, X_val, y_val)\n",
    "report['Accuracy'].append(acc)\n",
    "report['Macro-F1 Score'].append(f1)\n",
    "report['Precision'].append(prec)\n",
    "report['Recall'].append(rec)"
   ]
  },
  {
   "cell_type": "markdown",
   "metadata": {},
   "source": [
    "##  Advanced Models"
   ]
  },
  {
   "cell_type": "markdown",
   "metadata": {},
   "source": [
    "#### Random Forest Classifier"
   ]
  },
  {
   "cell_type": "code",
   "execution_count": 42,
   "metadata": {},
   "outputs": [],
   "source": [
    "# Random Forest\n",
    "rf = RandomForestClassifier()\n",
    "acc, f1, prec, rec = evaluate_model(rf, X_train, y_train, X_val, y_val)\n",
    "report['Accuracy'].append(acc)\n",
    "report['Macro-F1 Score'].append(f1)\n",
    "report['Precision'].append(prec)\n",
    "report['Recall'].append(rec)"
   ]
  },
  {
   "cell_type": "markdown",
   "metadata": {},
   "source": [
    "#### XGBoost Classifier"
   ]
  },
  {
   "cell_type": "code",
   "execution_count": 43,
   "metadata": {},
   "outputs": [
    {
     "name": "stderr",
     "output_type": "stream",
     "text": [
      "C:\\Users\\Phoenix\\AppData\\Local\\Packages\\PythonSoftwareFoundation.Python.3.11_qbz5n2kfra8p0\\LocalCache\\local-packages\\Python311\\site-packages\\xgboost\\core.py:158: UserWarning: [13:15:13] WARNING: C:\\buildkite-agent\\builds\\buildkite-windows-cpu-autoscaling-group-i-0c55ff5f71b100e98-1\\xgboost\\xgboost-ci-windows\\src\\learner.cc:740: \n",
      "Parameters: { \"use_label_encoder\" } are not used.\n",
      "\n",
      "  warnings.warn(smsg, UserWarning)\n"
     ]
    }
   ],
   "source": [
    "# XGBoost\n",
    "xgb = XGBClassifier(use_label_encoder=False, eval_metric='mlogloss')\n",
    "acc, f1, prec, rec = evaluate_model(xgb, X_train, y_train, X_val, y_val)\n",
    "report['Accuracy'].append(acc)\n",
    "report['Macro-F1 Score'].append(f1)\n",
    "report['Precision'].append(prec)\n",
    "report['Recall'].append(rec)"
   ]
  },
  {
   "cell_type": "markdown",
   "metadata": {},
   "source": [
    "#### LightGBM Classifier"
   ]
  },
  {
   "cell_type": "code",
   "execution_count": 44,
   "metadata": {},
   "outputs": [
    {
     "name": "stdout",
     "output_type": "stream",
     "text": [
      "[LightGBM] [Info] Auto-choosing row-wise multi-threading, the overhead of testing was 0.002432 seconds.\n",
      "You can set `force_row_wise=true` to remove the overhead.\n",
      "And if memory is not enough, you can set `force_col_wise=true`.\n",
      "[LightGBM] [Info] Total Bins 2297\n",
      "[LightGBM] [Info] Number of data points in the train set: 151085, number of used features: 18\n",
      "[LightGBM] [Info] Start training from score -0.831664\n",
      "[LightGBM] [Info] Start training from score -1.537434\n",
      "[LightGBM] [Info] Start training from score -1.050555\n"
     ]
    }
   ],
   "source": [
    "# LightGBM\n",
    "lgbm = LGBMClassifier()\n",
    "acc, f1, prec, rec = evaluate_model(lgbm, X_train, y_train, X_val, y_val)\n",
    "report['Accuracy'].append(acc)\n",
    "report['Macro-F1 Score'].append(f1)\n",
    "report['Precision'].append(prec)\n",
    "report['Recall'].append(rec)"
   ]
  },
  {
   "cell_type": "markdown",
   "metadata": {},
   "source": [
    "### REPORT"
   ]
  },
  {
   "cell_type": "code",
   "execution_count": 45,
   "metadata": {},
   "outputs": [
    {
     "name": "stdout",
     "output_type": "stream",
     "text": [
      "                 Model  Accuracy  Macro-F1 Score  Precision    Recall\n",
      "0  Logistic Regression  0.585248        0.470493   0.586093  0.499264\n",
      "1        Decision Tree  0.863179        0.858413   0.857942  0.858911\n",
      "2        Random Forest  0.869957        0.864994   0.880646  0.854633\n",
      "3              XGBoost  0.849518        0.843698   0.872346  0.828224\n",
      "4             LightGBM  0.834216        0.826285   0.863494  0.808228\n"
     ]
    }
   ],
   "source": [
    "report_df = pd.DataFrame(report)\n",
    "print(report_df)"
   ]
  },
  {
   "cell_type": "markdown",
   "metadata": {},
   "source": [
    "#### Cross Validation"
   ]
  },
  {
   "cell_type": "code",
   "execution_count": 46,
   "metadata": {},
   "outputs": [
    {
     "name": "stdout",
     "output_type": "stream",
     "text": [
      "Random Forest Cross-Validation Scores: [0.85336698 0.85604794 0.85207381 0.89237951 0.89307343]\n",
      "Mean CV Score: 0.86938833277363\n"
     ]
    }
   ],
   "source": [
    "from sklearn.model_selection import cross_val_score\n",
    "from sklearn.ensemble import RandomForestClassifier\n",
    "\n",
    "# Assuming the Random Forest model has already been trained on the SMOTE-augmented data\n",
    "rf_model = RandomForestClassifier(random_state=42)\n",
    "\n",
    "# Perform cross-validation on the Random Forest model\n",
    "cv_scores = cross_val_score(rf_model, X_train_smote, y_train_smote, cv=5)\n",
    "\n",
    "# Print cross-validation results\n",
    "print(f\"Random Forest Cross-Validation Scores: {cv_scores}\")\n",
    "print(f\"Mean CV Score: {cv_scores.mean()}\")"
   ]
  },
  {
   "cell_type": "markdown",
   "metadata": {},
   "source": [
    "#### Hyperparameter Tuning (GridSearchCV)"
   ]
  },
  {
   "cell_type": "code",
   "execution_count": 47,
   "metadata": {},
   "outputs": [
    {
     "name": "stdout",
     "output_type": "stream",
     "text": [
      "Fitting 5 folds for each of 20 candidates, totalling 100 fits\n",
      "Best parameters found:  {'bootstrap': False, 'max_depth': 27, 'min_samples_leaf': 2, 'min_samples_split': 2, 'n_estimators': 139}\n",
      "Random Forest Cross-Validation Scores: [0.85172686 0.85402933 0.85134837 0.89228489 0.89266339]\n",
      "Mean CV Score: 0.8684105658304464\n"
     ]
    }
   ],
   "source": [
    "import numpy as np\n",
    "from sklearn.model_selection import RandomizedSearchCV, cross_val_score\n",
    "from sklearn.ensemble import RandomForestClassifier\n",
    "from scipy.stats import randint\n",
    "\n",
    "# Assuming X_train_smote and y_train_smote are your features and target variable after SMOTE\n",
    "# Initialize the RandomForestClassifier\n",
    "rf_model = RandomForestClassifier(random_state=42)\n",
    "\n",
    "# Define a simpler parameter grid for RandomizedSearchCV\n",
    "param_dist = {\n",
    "    'n_estimators': randint(50, 200),  # Reduced range for faster training\n",
    "    'max_depth': randint(10, 30),      # Moderate depth for performance balance\n",
    "    'min_samples_split': randint(2, 10),  # Reduced range for faster convergence\n",
    "    'min_samples_leaf': randint(1, 5),  # Reduced range for faster convergence\n",
    "    'bootstrap': [True, False]\n",
    "}\n",
    "\n",
    "# Initialize RandomizedSearchCV with fewer iterations\n",
    "random_search = RandomizedSearchCV(\n",
    "    estimator=rf_model,\n",
    "    param_distributions=param_dist,\n",
    "    n_iter=20,  # Fewer iterations for faster results\n",
    "    scoring='accuracy',  # Replace with your preferred scoring metric\n",
    "    n_jobs=-1,  # Use all available cores\n",
    "    cv=5,  # 5-fold cross-validation\n",
    "    verbose=2,\n",
    "    random_state=42\n",
    ")\n",
    "\n",
    "# Fit the RandomizedSearchCV\n",
    "random_search.fit(X_train_smote, y_train_smote)\n",
    "\n",
    "# Best parameters found\n",
    "print(\"Best parameters found: \", random_search.best_params_)\n",
    "\n",
    "# Best model\n",
    "best_rf_model = random_search.best_estimator_\n",
    "\n",
    "# Perform cross-validation on the best model\n",
    "cv_scores = cross_val_score(best_rf_model, X_train_smote, y_train_smote, cv=5)\n",
    "\n",
    "# Print cross-validation results\n",
    "print(f\"Random Forest Cross-Validation Scores: {cv_scores}\")\n",
    "print(f\"Mean CV Score: {cv_scores.mean()}\")\n"
   ]
  },
  {
   "cell_type": "markdown",
   "metadata": {},
   "source": [
    "#### Retrain the best model on tuned hyper parameters"
   ]
  },
  {
   "cell_type": "code",
   "execution_count": 54,
   "metadata": {},
   "outputs": [
    {
     "name": "stdout",
     "output_type": "stream",
     "text": [
      "Trained model with the following best parameters:\n",
      "{'bootstrap': False, 'ccp_alpha': 0.0, 'class_weight': None, 'criterion': 'gini', 'max_depth': 27, 'max_features': 'sqrt', 'max_leaf_nodes': None, 'max_samples': None, 'min_impurity_decrease': 0.0, 'min_samples_leaf': 2, 'min_samples_split': 2, 'min_weight_fraction_leaf': 0.0, 'monotonic_cst': None, 'n_estimators': 139, 'n_jobs': None, 'oob_score': False, 'random_state': 42, 'verbose': 0, 'warm_start': False}\n"
     ]
    }
   ],
   "source": [
    "# Importing necessary library\n",
    "from sklearn.ensemble import RandomForestClassifier\n",
    "\n",
    "# Best hyperparameters obtained from the hyperparameter tuning (GridSearchCV)\n",
    "best_rf = RandomForestClassifier(\n",
    "    bootstrap=False,      \n",
    "    max_depth=27,         \n",
    "    min_samples_leaf=2,   \n",
    "    min_samples_split=2,  \n",
    "    n_estimators=139,    \n",
    "    random_state=42       \n",
    ")\n",
    "\n",
    "# Retrain the model on the SMOTE-resampled training set\n",
    "best_rf.fit(X_train_smote, y_train_smote)\n",
    "\n",
    "# print out the model parameters\n",
    "print(\"Trained model with the following best parameters:\")\n",
    "print(best_rf.get_params())\n"
   ]
  },
  {
   "cell_type": "markdown",
   "metadata": {},
   "source": [
    "#### performance of tuned model on smote dataset"
   ]
  },
  {
   "cell_type": "code",
   "execution_count": 55,
   "metadata": {},
   "outputs": [
    {
     "name": "stdout",
     "output_type": "stream",
     "text": [
      "Training Set Evaluation:\n",
      "Accuracy: 0.9750698636790875\n",
      "Macro F1 Score: 0.9751495539126381\n",
      "Precision: 0.9758517023230461\n",
      "Recall: 0.9750698636790877\n"
     ]
    }
   ],
   "source": [
    "# Predict on the SMOTE-resampled training set\n",
    "y_pred_train = best_rf.predict(X_train_smote)\n",
    "\n",
    "# Evaluate on the training set\n",
    "train_accuracy = accuracy_score(y_train_smote, y_pred_train)\n",
    "train_macro_f1 = f1_score(y_train_smote, y_pred_train, average='macro')\n",
    "train_precision = precision_score(y_train_smote, y_pred_train, average='macro')\n",
    "train_recall = recall_score(y_train_smote, y_pred_train, average='macro')\n",
    "\n",
    "# Print evaluation results on training set\n",
    "print(\"Training Set Evaluation:\")\n",
    "print(f\"Accuracy: {train_accuracy}\")\n",
    "print(f\"Macro F1 Score: {train_macro_f1}\")\n",
    "print(f\"Precision: {train_precision}\")\n",
    "print(f\"Recall: {train_recall}\")"
   ]
  },
  {
   "cell_type": "markdown",
   "metadata": {},
   "source": [
    "#### performance of tuned model on original dataset"
   ]
  },
  {
   "cell_type": "code",
   "execution_count": 56,
   "metadata": {},
   "outputs": [
    {
     "name": "stdout",
     "output_type": "stream",
     "text": [
      "\n",
      "Test Set Evaluation:\n",
      "Accuracy: 0.8610081541882876\n",
      "Macro F1 Score: 0.8564349244032919\n",
      "Precision: 0.8634583163209454\n",
      "Recall: 0.8519513880846032\n"
     ]
    }
   ],
   "source": [
    "# Predict on the original test set\n",
    "y_pred_test = best_rf.predict(X_test)\n",
    "\n",
    "# Evaluate on the test set\n",
    "test_accuracy = accuracy_score(y_test, y_pred_test)\n",
    "test_macro_f1 = f1_score(y_test, y_pred_test, average='macro')\n",
    "test_precision = precision_score(y_test, y_pred_test, average='macro')\n",
    "test_recall = recall_score(y_test, y_pred_test, average='macro')\n",
    "\n",
    "# Print evaluation results on test set\n",
    "print(\"\\nTest Set Evaluation:\")\n",
    "print(f\"Accuracy: {test_accuracy}\")\n",
    "print(f\"Macro F1 Score: {test_macro_f1}\")\n",
    "print(f\"Precision: {test_precision}\")\n",
    "print(f\"Recall: {test_recall}\")"
   ]
  },
  {
   "cell_type": "code",
   "execution_count": null,
   "metadata": {},
   "outputs": [
    {
     "name": "stdout",
     "output_type": "stream",
     "text": [
      "Accuracy: 0.9750698636790875\n",
      "Macro-F1 Score: 0.9751495539126381\n",
      "Precision: 0.9758517023230461\n",
      "Recall: 0.9750698636790877\n"
     ]
    }
   ],
   "source": [
    "# Retrain the model with the best parameters\n",
    "best_rf = random_search.best_estimator_\n",
    "\n",
    "# Evaluate on the training set (you can also use a separate test set)\n",
    "y_pred_best_rf = best_rf.predict(X_train_smote)\n",
    "\n",
    "# Model evaluation metrics\n",
    "print(\"Accuracy:\", accuracy_score(y_train_smote, y_pred_best_rf))\n",
    "print(\"Macro-F1 Score:\", f1_score(y_train_smote, y_pred_best_rf, average='macro'))\n",
    "print(\"Precision:\", precision_score(y_train_smote, y_pred_best_rf, average='macro'))\n",
    "print(\"Recall:\", recall_score(y_train_smote, y_pred_best_rf, average='macro'))"
   ]
  },
  {
   "cell_type": "markdown",
   "metadata": {},
   "source": [
    "#### classification report"
   ]
  },
  {
   "cell_type": "code",
   "execution_count": 58,
   "metadata": {},
   "outputs": [
    {
     "name": "stdout",
     "output_type": "stream",
     "text": [
      "\n",
      "Classification Report on Test Set:\n",
      "              precision    recall  f1-score   support\n",
      "\n",
      "           0       0.83      0.91      0.87      8222\n",
      "           1       0.84      0.82      0.83      4059\n",
      "           2       0.91      0.83      0.87      6605\n",
      "\n",
      "    accuracy                           0.86     18886\n",
      "   macro avg       0.86      0.85      0.86     18886\n",
      "weighted avg       0.86      0.86      0.86     18886\n",
      "\n",
      "\n",
      "Confusion Matrix on Test Set:\n",
      "[[7466  386  370]\n",
      " [ 575 3330  154]\n",
      " [ 909  231 5465]]\n"
     ]
    }
   ],
   "source": [
    "from sklearn.metrics import accuracy_score, f1_score, precision_score, recall_score, classification_report, confusion_matrix\n",
    "# Classification report for detailed metrics\n",
    "print(\"\\nClassification Report on Test Set:\")\n",
    "print(classification_report(y_test, y_pred_test))\n",
    "\n",
    "# Confusion Matrix\n",
    "print(\"\\nConfusion Matrix on Test Set:\")\n",
    "print(confusion_matrix(y_test, y_pred_test))"
   ]
  },
  {
   "cell_type": "markdown",
   "metadata": {},
   "source": [
    "#### save the best tuned model"
   ]
  },
  {
   "cell_type": "code",
   "execution_count": 59,
   "metadata": {},
   "outputs": [
    {
     "name": "stdout",
     "output_type": "stream",
     "text": [
      "\n",
      "Model saved as 'best_rf_model.pkl' since it meets the performance criteria.\n"
     ]
    }
   ],
   "source": [
    "# Performance threshold: Save the model if the test accuracy is above a threshold\n",
    "performance_threshold = 0.85  # Example threshold\n",
    "\n",
    "if test_accuracy >= performance_threshold:\n",
    "    # Save the model if it meets the performance criteria\n",
    "    joblib.dump(best_rf, 'best_rf_model.pkl')\n",
    "    print(\"\\nModel saved as 'best_rf_model.pkl' since it meets the performance criteria.\")\n",
    "else:\n",
    "    print(\"\\nModel does not meet the performance criteria, so not saved.\")"
   ]
  },
  {
   "cell_type": "markdown",
   "metadata": {},
   "source": [
    "## Evaluate Model on Given (Test Dataset)"
   ]
  },
  {
   "cell_type": "code",
   "execution_count": 62,
   "metadata": {},
   "outputs": [
    {
     "name": "stdout",
     "output_type": "stream",
     "text": [
      "Test Accuracy: 0.8653\n",
      "Test Macro-F1 Score: 0.8607\n",
      "Test Precision: 0.8671\n",
      "Test Recall: 0.8565\n",
      "Confusion Matrix:\n",
      "[[3736735  198401  175611]\n",
      " [ 280234 1673070   76260]\n",
      " [ 433004  108279 2761360]]\n"
     ]
    }
   ],
   "source": [
    "import pandas as pd\n",
    "import joblib\n",
    "from sklearn.metrics import accuracy_score, f1_score, precision_score, recall_score, confusion_matrix\n",
    "\n",
    "# Load the preprocessed test dataset\n",
    "test_data_path = r\"Processed_datasets/train_preprocessed.csv\"\n",
    "test_data = pd.read_csv(test_data_path)\n",
    "\n",
    "# Extract features and target variable from test dataset\n",
    "X_test = test_data.drop('incidentgrade', axis=1)  # Replace 'incidentgrade' with your target column name\n",
    "y_test = test_data['incidentgrade']\n",
    "\n",
    "# Load the final model (the one with hyperparameters tuned)\n",
    "final_model = joblib.load('best_rf_model.pkl') \n",
    "\n",
    "# Make predictions on the test set\n",
    "y_pred_test = final_model.predict(X_test)\n",
    "\n",
    "# Calculate evaluation metrics\n",
    "test_accuracy = accuracy_score(y_test, y_pred_test)\n",
    "test_macro_f1 = f1_score(y_test, y_pred_test, average='macro')\n",
    "test_precision = precision_score(y_test, y_pred_test, average='macro')\n",
    "test_recall = recall_score(y_test, y_pred_test, average='macro')\n",
    "\n",
    "# Print evaluation results\n",
    "print(f\"Test Accuracy: {test_accuracy:.4f}\")\n",
    "print(f\"Test Macro-F1 Score: {test_macro_f1:.4f}\")\n",
    "print(f\"Test Precision: {test_precision:.4f}\")\n",
    "print(f\"Test Recall: {test_recall:.4f}\")\n",
    "\n",
    "# Print confusion matrix\n",
    "print(\"Confusion Matrix:\")\n",
    "print(confusion_matrix(y_test, y_pred_test))\n"
   ]
  }
 ],
 "metadata": {
  "kernelspec": {
   "display_name": "Python 3",
   "language": "python",
   "name": "python3"
  },
  "language_info": {
   "codemirror_mode": {
    "name": "ipython",
    "version": 3
   },
   "file_extension": ".py",
   "mimetype": "text/x-python",
   "name": "python",
   "nbconvert_exporter": "python",
   "pygments_lexer": "ipython3",
   "version": "3.11.9"
  }
 },
 "nbformat": 4,
 "nbformat_minor": 2
}
